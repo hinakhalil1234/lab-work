{
 "cells": [
  {
   "cell_type": "code",
   "execution_count": 1,
   "id": "c8869a4c",
   "metadata": {},
   "outputs": [],
   "source": [
    "import numpy as np\n",
    "import matplotlib.pyplot as plt"
   ]
  },
  {
   "cell_type": "code",
   "execution_count": 2,
   "id": "ba8cc817",
   "metadata": {},
   "outputs": [],
   "source": [
    "h= np.array ([1,2,3,4])"
   ]
  },
  {
   "cell_type": "code",
   "execution_count": 3,
   "id": "25a03d5f",
   "metadata": {},
   "outputs": [
    {
     "data": {
      "text/plain": [
       "array([1, 2, 3, 4])"
      ]
     },
     "execution_count": 3,
     "metadata": {},
     "output_type": "execute_result"
    }
   ],
   "source": [
    "h"
   ]
  },
  {
   "cell_type": "code",
   "execution_count": 4,
   "id": "13fd22bf",
   "metadata": {},
   "outputs": [],
   "source": [
    "p= h*5"
   ]
  },
  {
   "cell_type": "code",
   "execution_count": 5,
   "id": "b9da29cc",
   "metadata": {},
   "outputs": [
    {
     "data": {
      "text/plain": [
       "array([ 5, 10, 15, 20])"
      ]
     },
     "execution_count": 5,
     "metadata": {},
     "output_type": "execute_result"
    }
   ],
   "source": [
    "p"
   ]
  },
  {
   "cell_type": "code",
   "execution_count": 6,
   "id": "f7a87a06",
   "metadata": {},
   "outputs": [],
   "source": [
    "p1= np.zeros(8)"
   ]
  },
  {
   "cell_type": "code",
   "execution_count": 7,
   "id": "84b5d333",
   "metadata": {},
   "outputs": [
    {
     "data": {
      "text/plain": [
       "array([0., 0., 0., 0., 0., 0., 0., 0.])"
      ]
     },
     "execution_count": 7,
     "metadata": {},
     "output_type": "execute_result"
    }
   ],
   "source": [
    "p1"
   ]
  },
  {
   "cell_type": "code",
   "execution_count": 8,
   "id": "56ea389d",
   "metadata": {},
   "outputs": [],
   "source": [
    "x= np.linspace(2,-2,10)\n",
    "y=x**2"
   ]
  },
  {
   "cell_type": "code",
   "execution_count": 9,
   "id": "7552abf9",
   "metadata": {},
   "outputs": [
    {
     "data": {
      "text/plain": [
       "array([ 2.        ,  1.55555556,  1.11111111,  0.66666667,  0.22222222,\n",
       "       -0.22222222, -0.66666667, -1.11111111, -1.55555556, -2.        ])"
      ]
     },
     "execution_count": 9,
     "metadata": {},
     "output_type": "execute_result"
    }
   ],
   "source": [
    "x"
   ]
  },
  {
   "cell_type": "code",
   "execution_count": 12,
   "id": "1779f6ce",
   "metadata": {},
   "outputs": [
    {
     "data": {
      "text/plain": [
       "Text(0, 0.5, 'distance')"
      ]
     },
     "execution_count": 12,
     "metadata": {},
     "output_type": "execute_result"
    },
    {
     "data": {
      "image/png": "[encoded data removed]",
      "text/plain": [
       "<Figure size 432x288 with 1 Axes>"
      ]
     },
     "metadata": {
      "needs_background": "light"
     },
     "output_type": "display_data"
    }
   ],
   "source": [
    "plt.plot(x,y)\n",
    "plt.grid()\n",
    "plt.xlabel('time',fontsize=10)\n",
    "plt.ylabel('distance',fontsize=10)\n"
   ]
  },
  {
   "cell_type": "code",
   "execution_count": 13,
   "id": "aa8a3185",
   "metadata": {},
   "outputs": [],
   "source": [
    "t1= np.arange(0,15,0.5)"
   ]
  },
  {
   "cell_type": "code",
   "execution_count": 14,
   "id": "ac86d9e9",
   "metadata": {},
   "outputs": [
    {
     "data": {
      "text/plain": [
       "array([ 0. ,  0.5,  1. ,  1.5,  2. ,  2.5,  3. ,  3.5,  4. ,  4.5,  5. ,\n",
       "        5.5,  6. ,  6.5,  7. ,  7.5,  8. ,  8.5,  9. ,  9.5, 10. , 10.5,\n",
       "       11. , 11.5, 12. , 12.5, 13. , 13.5, 14. , 14.5])"
      ]
     },
     "execution_count": 14,
     "metadata": {},
     "output_type": "execute_result"
    }
   ],
   "source": [
    "t1"
   ]
  },
  {
   "cell_type": "code",
   "execution_count": 15,
   "id": "6d4d18a2",
   "metadata": {},
   "outputs": [],
   "source": [
    "a=(5)"
   ]
  },
  {
   "cell_type": "code",
   "execution_count": 16,
   "id": "33eb0ee1",
   "metadata": {},
   "outputs": [
    {
     "data": {
      "text/plain": [
       "range(0, 9)"
      ]
     },
     "execution_count": 16,
     "metadata": {},
     "output_type": "execute_result"
    }
   ],
   "source": [
    "range(9)"
   ]
  },
  {
   "cell_type": "code",
   "execution_count": 19,
   "id": "99d6d435",
   "metadata": {},
   "outputs": [
    {
     "name": "stdout",
     "output_type": "stream",
     "text": [
      "5\n",
      "5\n",
      "5\n",
      "5\n",
      "5\n"
     ]
    }
   ],
   "source": [
    "for i in range (a):\n",
    "      print(a)"
   ]
  },
  {
   "cell_type": "code",
   "execution_count": null,
   "id": "827f389e",
   "metadata": {},
   "outputs": [],
   "source": []
  }
 ],
 "metadata": {
  "kernelspec": {
   "display_name": "Python 3 (ipykernel)",
   "language": "python",
   "name": "python3"
  },
  "language_info": {
   "codemirror_mode": {
    "name": "ipython",
    "version": 3
   },
   "file_extension": ".py",
   "mimetype": "text/x-python",
   "name": "python",
   "nbconvert_exporter": "python",
   "pygments_lexer": "ipython3",
   "version": "3.9.7"
  }
 },
 "nbformat": 4,
 "nbformat_minor": 5
}
